{
 "cells": [
  {
   "cell_type": "markdown",
   "metadata": {},
   "source": [
    "**Sentinel allows customers to implement policy-as-code in the same way that Terraform implements infrastructure-as-code.**\n",
    "\n",
    "**The Sentinel Command Line Interface (CLI) allows you to apply and test Sentinel policies including those that use mocks generated from Terraform Cloud and Terraform Enterprise.**\n",
    "\n",
    "**TFC Free plans support 1 Policy Set and 5 Policies: https://www.hashicorp.com/products/terraform/pricing**"
   ]
  },
  {
   "cell_type": "markdown",
   "metadata": {},
   "source": [
    "The first thing we are going to do in this exercise is to sync a VCS repo containig Terraform code with Terraform Cloud. To that end, we are going to use a local terraform workspace to create the TFC Workspace that will create infrastructure in AWS and against which we are going to test our Sentinel policies."
   ]
  },
  {
   "cell_type": "markdown",
   "metadata": {},
   "source": [
    "### **variables.tfvars**\n",
    "| Variable Name   | Description              |\n",
    "| --------------- | ------------------------ |\n",
    "| organization    | TFC Organization name    |\n",
    "| project         | Project name             |\n",
    "| gh_token        | Github OAuth Token       |\n",
    "| repo            | Github repo              |\n",
    "| working_dir     | Relative path where TF code is placed |"
   ]
  },
  {
   "cell_type": "markdown",
   "metadata": {},
   "source": [
    "### **Create TFC Workspace associated to VCS repo**"
   ]
  },
  {
   "cell_type": "code",
   "execution_count": 6,
   "metadata": {},
   "outputs": [
    {
     "name": "stdout",
     "output_type": "stream",
     "text": [
      "\n",
      "\u001b[0m\u001b[1mInitializing the backend...\u001b[0m\n",
      "\n",
      "\u001b[0m\u001b[1mInitializing provider plugins...\u001b[0m\n",
      "- Reusing previous version of hashicorp/tfe from the dependency lock file\n",
      "- Using previously-installed hashicorp/tfe v0.48.0\n",
      "\n",
      "\u001b[0m\u001b[1m\u001b[32mTerraform has been successfully initialized!\u001b[0m\u001b[32m\u001b[0m\n",
      "\u001b[0m\u001b[32m\n",
      "You may now begin working with Terraform. Try running \"terraform plan\" to see\n",
      "any changes that are required for your infrastructure. All Terraform commands\n",
      "should now work.\n",
      "\n",
      "If you ever set or change modules or backend configuration for Terraform,\n",
      "rerun this command to reinitialize your working directory. If you forget, other\n",
      "commands will detect it and remind you to do so if necessary.\u001b[0m\n",
      "\n",
      "Terraform used the selected providers to generate the following execution\n",
      "plan. Resource actions are indicated with the following symbols:\n",
      "  \u001b[32m+\u001b[0m create\u001b[0m\n",
      "\n",
      "Terraform will perform the following actions:\n",
      "\n",
      "\u001b[1m  # tfe_project.sentinel_test_project\u001b[0m will be created\n",
      "\u001b[0m  \u001b[32m+\u001b[0m\u001b[0m resource \"tfe_project\" \"sentinel_test_project\" {\n",
      "      \u001b[32m+\u001b[0m\u001b[0m id           = (known after apply)\n",
      "      \u001b[32m+\u001b[0m\u001b[0m name         = \"tfe_provider_workspaces\"\n",
      "      \u001b[32m+\u001b[0m\u001b[0m organization = \"josemerchan-training\"\n",
      "    }\n",
      "\n",
      "\u001b[1m  # tfe_workspace.sentinel_test_workspace\u001b[0m will be created\n",
      "\u001b[0m  \u001b[32m+\u001b[0m\u001b[0m resource \"tfe_workspace\" \"sentinel_test_workspace\" {\n",
      "      \u001b[32m+\u001b[0m\u001b[0m allow_destroy_plan            = true\n",
      "      \u001b[32m+\u001b[0m\u001b[0m assessments_enabled           = true\n",
      "      \u001b[32m+\u001b[0m\u001b[0m auto_apply                    = false\n",
      "      \u001b[32m+\u001b[0m\u001b[0m execution_mode                = \"remote\"\n",
      "      \u001b[32m+\u001b[0m\u001b[0m file_triggers_enabled         = true\n",
      "      \u001b[32m+\u001b[0m\u001b[0m force_delete                  = false\n",
      "      \u001b[32m+\u001b[0m\u001b[0m global_remote_state           = false\n",
      "      \u001b[32m+\u001b[0m\u001b[0m html_url                      = (known after apply)\n",
      "      \u001b[32m+\u001b[0m\u001b[0m id                            = (known after apply)\n",
      "      \u001b[32m+\u001b[0m\u001b[0m name                          = \"Sentinel\"\n",
      "      \u001b[32m+\u001b[0m\u001b[0m operations                    = (known after apply)\n",
      "      \u001b[32m+\u001b[0m\u001b[0m organization                  = \"josemerchan-training\"\n",
      "      \u001b[32m+\u001b[0m\u001b[0m project_id                    = (known after apply)\n",
      "      \u001b[32m+\u001b[0m\u001b[0m queue_all_runs                = false\n",
      "      \u001b[32m+\u001b[0m\u001b[0m remote_state_consumer_ids     = (known after apply)\n",
      "      \u001b[32m+\u001b[0m\u001b[0m resource_count                = (known after apply)\n",
      "      \u001b[32m+\u001b[0m\u001b[0m speculative_enabled           = true\n",
      "      \u001b[32m+\u001b[0m\u001b[0m structured_run_output_enabled = true\n",
      "      \u001b[32m+\u001b[0m\u001b[0m tag_names                     = (known after apply)\n",
      "      \u001b[32m+\u001b[0m\u001b[0m terraform_version             = \"1.4.0\"\n",
      "      \u001b[32m+\u001b[0m\u001b[0m working_directory             = \"/S3-demo/tf-config\"\n",
      "\n",
      "      \u001b[32m+\u001b[0m\u001b[0m vcs_repo {\n",
      "          \u001b[32m+\u001b[0m\u001b[0m identifier         = \"jm-merchan/Sentinel-Demo\"\n",
      "          \u001b[32m+\u001b[0m\u001b[0m ingress_submodules = false\n",
      "          \u001b[32m+\u001b[0m\u001b[0m oauth_token_id     = \"ot-FYf1qf29ECo3FWdW\"\n",
      "        }\n",
      "    }\n",
      "\n",
      "\u001b[1mPlan:\u001b[0m 2 to add, 0 to change, 0 to destroy.\n",
      "\u001b[0m\u001b[0m\u001b[1mtfe_project.sentinel_test_project: Creating...\u001b[0m\u001b[0m\n",
      "\u001b[0m\u001b[1mtfe_project.sentinel_test_project: Creation complete after 1s [id=prj-ReVdxfyKRWqi4HJV]\u001b[0m\n",
      "\u001b[0m\u001b[1mtfe_workspace.sentinel_test_workspace: Creating...\u001b[0m\u001b[0m\n",
      "\u001b[0m\u001b[1mtfe_workspace.sentinel_test_workspace: Creation complete after 2s [id=ws-342p6v9hqAGKBwiW]\u001b[0m\n",
      "\u001b[0m\u001b[1m\u001b[32m\n",
      "Apply complete! Resources: 2 added, 0 changed, 0 destroyed.\n",
      "\u001b[0m"
     ]
    }
   ],
   "source": [
    "%%bash\n",
    "cd tf-config-tfe\n",
    "terraform init\n",
    "terraform apply -var-file=variables.tfvars -auto-approve"
   ]
  },
  {
   "cell_type": "markdown",
   "metadata": {},
   "source": [
    "![Alt text](image.png)\n",
    "![Alt text](image-1.png)"
   ]
  },
  {
   "cell_type": "markdown",
   "metadata": {},
   "source": [
    "Now that we have a working Terraform configuration and workspace, lets create a policy to set guardrails around one of type of resources created by our config. We want to enforce 2 organization requirements for S3 buckets:\n",
    "\n",
    "* All S3 buckets should have `department` and `environment` tags\n",
    "* All S3 bucket should use the `private` ACL to prevent accidental data leaks"
   ]
  },
  {
   "cell_type": "markdown",
   "metadata": {},
   "source": [
    "## Sentinel Imports"
   ]
  },
  {
   "cell_type": "markdown",
   "metadata": {},
   "source": [
    "A Sentinel policy can include imports which enable a policy to access reusable libraries, external data and functions. Terraform Cloud provides four built-in imports that can be used for a policy check:\n",
    "\n",
    "| Import  | Description |\n",
    "| ------- | ----------- |\n",
    "| [tfplan](https://developer.hashicorp.com/terraform/cloud-docs/policy-enforcement/sentinel/import/tfplan-v2)  |\tprovides access to Terraform plan details which represent the changes Terraform will make to the desired state |\n",
    "| [tfconfig](https://developer.hashicorp.com/terraform/cloud-docs/policy-enforcement/sentinel/import/tfconfig-v2) |\tprovides access to Terraform configuration that is being used to describe the desired state |\n",
    "| [tfstate](https://developer.hashicorp.com/terraform/cloud-docs/policy-enforcement/sentinel/import/tfstate-v2) |\tprovides access to Terraform statewhich represents what Terraform knows about the real world resources |\n",
    "| [tfrun](https://developer.hashicorp.com/terraform/cloud-docs/policy-enforcement/sentinel/import/tfrun) |\tprovides access to information about a run |\n",
    "\n",
    "Note: Some imports can have a v2 suffix which indicates they represent the new data structures used post Terraform 0.12"
   ]
  },
  {
   "cell_type": "markdown",
   "metadata": {},
   "source": [
    "We have created an example sentinel policy in `restrict-s3-buckets.sentinel`. Let's analyze each of its parts:\n",
    "```bash\n",
    "\n",
    "import \"tfplan/v2\" as tfplan\n",
    "\n",
    "# Filter S3 buckets\n",
    "s3_buckets = filter tfplan.resource_changes as address, rc {\n",
    "  rc.type is \"aws_s3_bucket\" and\n",
    "  (rc.change.actions contains \"create\" or rc.change.actions is [\"update\"])\n",
    "}\n",
    "```\n",
    "* `tfplan/v2` is a frequently used import in policies since it provides details about planned changes. Later in this lab we will go over how you can determine what information is available to your policy from the import.\n",
    "* `tfplan.resource_changes` is a collection with the resource address as the key and a resource change object as the value.\n",
    "We are iterating over each of the resource change objects in the collection and using the filter function to filter out change objects whose type is `aws_s3_bucket`.\n",
    "* The `type` name matches the resource block we would define in a .tf file to manage S3 buckets.\n",
    "\n",
    "To understand where is that what we are checking let's run a `Plan` on the TFC workspace and get some `mock` data."
   ]
  },
  {
   "cell_type": "code",
   "execution_count": 8,
   "metadata": {},
   "outputs": [
    {
     "name": "stderr",
     "output_type": "stream",
     "text": [
      "time=\"2023-10-04T17:39:24+02:00\" level=info msg=\"Found new version v4.0.0, checking compatibility\"\n",
      "time=\"2023-10-04T17:39:25+02:00\" level=info msg=\"Version 4.0.0 is compatible; preparing to download\"\n",
      "Downloading...  100% |█████████████████████████| (27/27 MB, 6.014 MB/s)        \n",
      "time=\"2023-10-04T17:39:30+02:00\" level=info msg=\"Downloaded release archive with shasum 748a33c56379c4f1c088654e5a2ceb8a1decc4f33f588bb0707263bb5f170288\"\n",
      "time=\"2023-10-04T17:39:31+02:00\" level=info msg=\"Verified the signature of the release shasums file and verified the shasum of the downloaded archive\"\n",
      "time=\"2023-10-04T17:39:31+02:00\" level=info msg=\"Decompressed new doormat binary to /opt/homebrew/Cellar/doormat-cli/3.3.0/bin/doormat_4.0.0\"\n",
      "time=\"2023-10-04T17:39:31+02:00\" level=info msg=\"Backed up current doormat-cli binary to /opt/homebrew/Cellar/doormat-cli/3.3.0/bin/doormat.v3.6.2.bak\"\n",
      "time=\"2023-10-04T17:39:33+02:00\" level=info msg=\"Updated doormat-cli from v3.6.2 to v4.0.0\"\n",
      "time=\"2023-10-04T17:39:33+02:00\" level=info msg=\"If you experience issues with this new version, your old version has been preserved at /opt/homebrew/Cellar/doormat-cli/3.3.0/bin/doormat.v3.6.2.bak\"\n",
      "time=\"2023-10-04T17:39:33+02:00\" level=info msg=\"If all else fails, you can always download a new version from GitHub at https://github.com/hashicorp/doormat-cli/releases\"\n",
      "time=\"2023-10-04T17:39:34+02:00\" level=warning msg=\"The --tf-push flag is being deprecated and has been replaced with a command. In the future, run 'doormat aws tf-push'\"\n",
      "time=\"2023-10-04T17:39:34+02:00\" level=info msg=\"Getting Creds for TFC/TFE\"\n",
      "time=\"2023-10-04T17:39:40+02:00\" level=info msg=\"Creds pushed to \\\"Sentinel\\\"\"\n",
      "time=\"2023-10-04T17:39:40+02:00\" level=info msg=Done\n"
     ]
    }
   ],
   "source": [
    "%%bash\n",
    "# SE only\n",
    "doormat login \n",
    "doormat aws --account aws_jose.merchan_test --tf-push --tf-workspace  Sentinel --tf-organization josemerchan-training"
   ]
  },
  {
   "cell_type": "markdown",
   "metadata": {},
   "source": [
    "Let's Create a Plan-only run\n",
    "\n",
    "\n",
    "![Alt text](image-2.png)"
   ]
  },
  {
   "cell_type": "markdown",
   "metadata": {},
   "source": [
    "A plan will be queued. Once finished it will give use what is planned to be changed. Additionally it gives us the option to `Download Sentinel mocks` \n",
    "\n",
    "![Alt text](image-3.png)\n",
    "\n",
    "You can download them or simply use the sample mocks provided within this repo, within the /S3-demo/mocks directory. The one we care about at this point is `mock-tfplan-v2.sentinel`\n",
    "\n",
    "The file contains a number of top level objects (`collections`) that can be iterated\n",
    "\n",
    "| file example             | doc reference            |\n",
    "| -----------------------  | -------------            |\n",
    "| ![Alt text](image-4.png) | ![Alt text](image-5.png) |\n",
    "\n",
    "Sentinel imports are structured as a series of collections with a number of attributes, documented as in the image above (right)"
   ]
  },
  {
   "cell_type": "markdown",
   "metadata": {},
   "source": [
    "So back to our example we are iterating over resource changes. If you look at the plan output above there are 6 resources that \"will be created\". Those 6 all also the resources within the resource_changes list\n",
    "\n",
    "![Alt text](image-6.png)\n",
    "\n",
    "\n",
    "```bash\n",
    "\n",
    "import \"tfplan/v2\" as tfplan\n",
    "\n",
    "# Filter S3 buckets\n",
    "s3_buckets = filter tfplan.resource_changes as address, rc {\n",
    "  rc.type is \"aws_s3_bucket\" and\n",
    "  (rc.change.actions contains \"create\" or rc.change.actions is [\"update\"])\n",
    "}\n",
    "```\n",
    "\n",
    "* From the collection the only one that matches is the first resource: `aws_s3_bucket.dev`\n",
    "* The other thing we are doing is apply and `AND` and verify that the kind of change apply to the resource in this case whether the resource is `create`(d) or `update`(d)\n",
    "\n",
    "| ![Alt text](image-7.png) |  ![Alt text](image-8.png) |\n",
    "\n",
    "The resource `aws_s3_bucket.dev` matches both conditions. The result is the creation of a list (or based on the [documentation](https://docs.hashicorp.com/sentinel/language/collection-operations#filter-expression):  `a subset of the provided collection` ) with a single element on it"
   ]
  },
  {
   "cell_type": "markdown",
   "metadata": {},
   "source": [
    "### Rules"
   ]
  },
  {
   "cell_type": "markdown",
   "metadata": {},
   "source": [
    "The next steps is check that our collection (the subset of it based on the `filter` expression) matches the characteristics we want to enforce:\n",
    "* All S3 buckets should have `department` and `environment` tags\n",
    "* All S3 bucket should use the `private` ACL to prevent accidental data leaks\n",
    "\n",
    "1. Let's focus on the first of those. \n",
    "\n",
    "```bash\n",
    "# The tags we want to enforce\n",
    "required_tags = [\"department\", \"environment\"]\n",
    "\n",
    "# Lets create a subset/list if it contains tags but those tags are not in the \"required_tags\" list\n",
    "tag_violators = filter s3_buckets as address, bucket {\n",
    "  any required_tags as rtag {\n",
    "    rtag not in bucket.change.after.tags\n",
    "  }\n",
    "}\n",
    "# Given a list of aws_s3_bucket resources with invalid tags, validate if the list is empty.\n",
    "# If not empty the rule evaluate to 'false' (fail), but if empty then evaluate to 'true' (pass)\n",
    "bucket_should_have_required_tags = rule {\n",
    "  tag_violators is empty\n",
    "}\n",
    "```\n",
    "\n",
    "> We are using the `any` expression to test if any of the required tags are not present in the bucket's list of tags after changes are applied. If a tag is found to be missing, the expression evaluates to true and the resource is added to the violators list.\n",
    "\n",
    "Let's go back to our file in `S3-demo/mocks/mock-tfplan-v2.sentinel`. \n",
    "\n",
    "The resource has the `tag` **environment** but not **department**. For this reason this [rule](https://docs.hashicorp.com/sentinel/intro/getting-started/rules) will result in a `FAIL` when evaluated.\n",
    "\n",
    "\n",
    "\n",
    "```json\n",
    "\t\"aws_s3_bucket.dev\": {\n",
    "\t\t\"address\": \"aws_s3_bucket.dev\",\n",
    "\t\t\"change\": {\n",
    "\t\t\t\"actions\": [\n",
    "\t\t\t\t\"create\",                             # action create\n",
    "\t\t\t],\n",
    "\t\t\t\"after\": {\n",
    "\t\t\t\t\"acl\":                       \"private\",\n",
    "\t\t\t\t\"bucket_prefix\":             null,\n",
    "\t\t\t\t\"cors_rule\":                 [],\n",
    "\t\t\t\t\"force_destroy\":             true,\n",
    "\t\t\t\t\"grant\":                     [],\n",
    "\t\t\t\t\"lifecycle_rule\":            [],\n",
    "\t\t\t\t\"logging\":                   [],\n",
    "\t\t\t\t\"policy\":                    null,\n",
    "\t\t\t\t\"replication_configuration\": [],\n",
    "\t\t\t\t\"tags\": {\n",
    "\t\t\t\t\t\"environment\": \"dev\",                # Just enviroment, department is missing\n",
    "\t\t\t\t},\n",
    "\t\t\t\t\"tags_all\": {\n",
    "\t\t\t\t\t\"environment\": \"dev\",\n",
    "\t\t\t\t},\n",
    "\t\t\t\t\"website\": [],\n",
    "\t\t\t},\n",
    "\t\t\t\"after_unknown\": {\n",
    "\t\t\t\t...\n",
    "\t\t\t},\n",
    "\t\t\t\"before\": null,\n",
    "\t\t},\n",
    "\t\t\"deposed\":        \"\",\n",
    "\t\t\"index\":          null,\n",
    "\t\t\"mode\":           \"managed\",\n",
    "\t\t\"module_address\": \"\",\n",
    "\t\t\"name\":           \"dev\",\n",
    "\t\t\"provider_name\":  \"registry.terraform.io/hashicorp/aws\",\n",
    "\t\t\"type\":           \"aws_s3_bucket\",             # aws_s3_bucket resource\n",
    "\t},\n",
    "\n",
    "```\n",
    "\n",
    "\n",
    "1. Let's move onto the second one, making sure that the acl policy associated to the bucket is set to `private`\n",
    "\n",
    "```bash\n",
    "# Given the collection of resources in the tfplan iterate and obtain those whose type is aws_s3_bucket_acl and that are going to be created or updated\n",
    "s3_bucket_acls = filter tfplan.resource_changes as address, rc {\n",
    "  rc.type is \"aws_s3_bucket_acl\" and\n",
    "  (rc.change.actions contains \"create\" or rc.change.actions is [\"update\"])\n",
    "}\n",
    "\n",
    "# For the collection of aws_s3_bucket_acl get those whose change.after.acl is not private\n",
    "acl_violators = filter s3_bucket_acls as address, bucket {\n",
    "  bucket.change.after.acl != \"private\"\n",
    "}\n",
    "# If the subset above is not empty then result in FAIL\n",
    "bucket_acl_should_be_private = rule {\n",
    "  acl_violators is empty\n",
    "}\n",
    "```\n",
    "\n",
    "Again, let's go back to our file in `S3-demo/mocks/mock-tfplan-v2.sentinel`. Here we can find a resource that matches both conditions\n",
    "\n",
    "```json\n",
    "\t\"aws_s3_bucket_acl.dev\": {\n",
    "\t\t\"address\": \"aws_s3_bucket_acl.dev\",\n",
    "\t\t\"change\": {\n",
    "\t\t\t\"actions\": [\n",
    "\t\t\t\t\"create\",                      # action create\n",
    "\t\t\t],\n",
    "\t\t\t\"after\": {\n",
    "\t\t\t\t\"acl\": \"public-read\",           # is not private\n",
    "\t\t\t\t\"expected_bucket_owner\": null,\n",
    "\t\t\t},\n",
    "\t\t\t\"after_unknown\": {\n",
    "\t\t\t\t\"access_control_policy\": true,\n",
    "\t\t\t\t\"bucket\":                true,\n",
    "\t\t\t\t\"id\":                    true,\n",
    "\t\t\t},\n",
    "\t\t\t\"before\": null,\n",
    "\t\t},\n",
    "\t\t\"deposed\":        \"\",\n",
    "\t\t\"index\":          null,\n",
    "\t\t\"mode\":           \"managed\",\n",
    "\t\t\"module_address\": \"\",\n",
    "\t\t\"name\":           \"dev\",\n",
    "\t\t\"provider_name\":  \"registry.terraform.io/hashicorp/aws\",\n",
    "\t\t\"type\":           \"aws_s3_bucket_acl\",  # aws_s3_bucket_acl\n",
    "\t},\n",
    "````\n"
   ]
  },
  {
   "cell_type": "markdown",
   "metadata": {},
   "source": [
    "### main rule\n",
    "Each Sentinel policy is expected to contain a main rule. The result of the policy depends on the evaluated contents of the main rule. For booleans, a policy passes on a true value, and fails on a false value.\n",
    "\n",
    "Let's add a main rule, the result of which is the combination of the 2 rules we have defined earlier. Note that using Sentinel we are able to apply our policy logic to multiple types of resources (`aws_s3_bucket_acl` and `aws_s3_bucket`)and combine the results.\n",
    "\n",
    "```hcl\n",
    "main = rule {\n",
    "  bucket_should_have_required_tags and\n",
    "  bucket_acl_should_be_private\n",
    "}\n",
    "```\n",
    "We are doing a logical `AND` with our 2 rules. If either one of our rules evaluates to false, our main rule evaluates to false and our policy check fails."
   ]
  },
  {
   "cell_type": "markdown",
   "metadata": {},
   "source": [
    "# Testing\n",
    "\n",
    "We have created a Sentinel policy and based on what we know based on the mock Sentinel info, the infrastructure is not in compliance with the policy. Before applying the policy via `Policy Set` in TFC is advisable to run local testing (or via CI/CD) to make sure our Sentinel policies are properly written.\n",
    "\n",
    "The Sentinel CLI allows for the development and testing of policies outside of TFC/TFE. Sentinel Mocks are imports used to mock the data available to the Sentinel engine when its runs after a plan operation in TFE/TFC. To that end we are going to use the mock data we can download from TFC, which we have made available in `S3-demo/mocks`\n",
    "* https://docs.hashicorp.com/sentinel/intro/getting-started/install\n",
    "\n",
    "When you download the mock data from Terraform Cloud you get a tar.gz. Within the available files you get a `sentinel.hcl`. In this case what we have done is move and rename that file as `sentinel-mocks.hcl` and placed in the `S3-demo` directory. Finally, we have modify the relative path of the import to refer to the in `mocks/....`\n",
    "\n",
    "| Original                              | Modified |\n",
    "| --------                              | -------- |\n",
    "| ![Original](image-11.png)             | ![Modified](image-10.png) |\n",
    "\n",
    "For Sentinel to use to use mocks, the CLI must be provided with a configuration file. This can be specified using the -config=path flag. This configuration file is the  `sentinel-mocks.hcl` we have just created, which simply defines where to obtain the `imports`\n",
    "\n",
    "Let's run our first local policy test using the Sentinel CLI:"
   ]
  },
  {
   "cell_type": "code",
   "execution_count": 10,
   "metadata": {},
   "outputs": [
    {
     "name": "stdout",
     "output_type": "stream",
     "text": [
      "Execution trace. The information below will show the values of all\n",
      "the rules evaluated. Note that some rules may be missing if\n",
      "short-circuit logic was taken.\n",
      "\n",
      "Note that for collection types and long strings, output may be\n",
      "truncated; re-run \"sentinel apply\" with the -json flag to see the\n",
      "full contents of these values.\n",
      "\n",
      "The trace is displayed due to a failed policy.\n",
      "\n",
      "Fail - restrict-s3-buckets.sentinel\n",
      "\n",
      "Description:\n",
      "  A sentinel policy for S3 buckets that enforces required tags are provided\n",
      "  and bucket acl is set to private\n",
      "\n",
      "Print messages:\n",
      "\n",
      "aws_s3_bucket.dev actual tags: [\"environment\"] \n",
      "\trequired tags: [\"department\" \"environment\"] \n",
      "\n",
      "aws_s3_bucket_acl.dev actual acl: public-read \n",
      "\trequired acl: private \n",
      "\n",
      "\n",
      "restrict-s3-buckets.sentinel:49:1 - Rule \"main\"\n",
      "  Value:\n",
      "    false\n",
      "\n",
      "restrict-s3-buckets.sentinel:20:1 - Rule \"bucket_should_have_required_tags\"\n",
      "  Value:\n",
      "    false\n",
      "\n"
     ]
    },
    {
     "ename": "CalledProcessError",
     "evalue": "Command 'b'sentinel apply -config=sentinel-mocks.hcl restrict-s3-buckets.sentinel\\n'' returned non-zero exit status 1.",
     "output_type": "error",
     "traceback": [
      "\u001b[0;31m---------------------------------------------------------------------------\u001b[0m",
      "\u001b[0;31mCalledProcessError\u001b[0m                        Traceback (most recent call last)",
      "\u001b[1;32m/Users/jose/Desktop/Sentinel/Sentinel-Demo/S3-demo/steps.ipynb Celda 19\u001b[0m line \u001b[0;36m1\n\u001b[0;32m----> <a href='vscode-notebook-cell:/Users/jose/Desktop/Sentinel/Sentinel-Demo/S3-demo/steps.ipynb#X26sZmlsZQ%3D%3D?line=0'>1</a>\u001b[0m get_ipython()\u001b[39m.\u001b[39;49mrun_cell_magic(\u001b[39m'\u001b[39;49m\u001b[39mbash\u001b[39;49m\u001b[39m'\u001b[39;49m, \u001b[39m'\u001b[39;49m\u001b[39m'\u001b[39;49m, \u001b[39m'\u001b[39;49m\u001b[39msentinel apply -config=sentinel-mocks.hcl restrict-s3-buckets.sentinel\u001b[39;49m\u001b[39m\\n\u001b[39;49;00m\u001b[39m'\u001b[39;49m)\n",
      "File \u001b[0;32m~/Library/Python/3.9/lib/python/site-packages/IPython/core/interactiveshell.py:2493\u001b[0m, in \u001b[0;36mInteractiveShell.run_cell_magic\u001b[0;34m(self, magic_name, line, cell)\u001b[0m\n\u001b[1;32m   2491\u001b[0m \u001b[39mwith\u001b[39;00m \u001b[39mself\u001b[39m\u001b[39m.\u001b[39mbuiltin_trap:\n\u001b[1;32m   2492\u001b[0m     args \u001b[39m=\u001b[39m (magic_arg_s, cell)\n\u001b[0;32m-> 2493\u001b[0m     result \u001b[39m=\u001b[39m fn(\u001b[39m*\u001b[39;49margs, \u001b[39m*\u001b[39;49m\u001b[39m*\u001b[39;49mkwargs)\n\u001b[1;32m   2495\u001b[0m \u001b[39m# The code below prevents the output from being displayed\u001b[39;00m\n\u001b[1;32m   2496\u001b[0m \u001b[39m# when using magics with decorator @output_can_be_silenced\u001b[39;00m\n\u001b[1;32m   2497\u001b[0m \u001b[39m# when the last Python token in the expression is a ';'.\u001b[39;00m\n\u001b[1;32m   2498\u001b[0m \u001b[39mif\u001b[39;00m \u001b[39mgetattr\u001b[39m(fn, magic\u001b[39m.\u001b[39mMAGIC_OUTPUT_CAN_BE_SILENCED, \u001b[39mFalse\u001b[39;00m):\n",
      "File \u001b[0;32m~/Library/Python/3.9/lib/python/site-packages/IPython/core/magics/script.py:154\u001b[0m, in \u001b[0;36mScriptMagics._make_script_magic.<locals>.named_script_magic\u001b[0;34m(line, cell)\u001b[0m\n\u001b[1;32m    152\u001b[0m \u001b[39melse\u001b[39;00m:\n\u001b[1;32m    153\u001b[0m     line \u001b[39m=\u001b[39m script\n\u001b[0;32m--> 154\u001b[0m \u001b[39mreturn\u001b[39;00m \u001b[39mself\u001b[39;49m\u001b[39m.\u001b[39;49mshebang(line, cell)\n",
      "File \u001b[0;32m~/Library/Python/3.9/lib/python/site-packages/IPython/core/magics/script.py:314\u001b[0m, in \u001b[0;36mScriptMagics.shebang\u001b[0;34m(self, line, cell)\u001b[0m\n\u001b[1;32m    309\u001b[0m \u001b[39mif\u001b[39;00m args\u001b[39m.\u001b[39mraise_error \u001b[39mand\u001b[39;00m p\u001b[39m.\u001b[39mreturncode \u001b[39m!=\u001b[39m \u001b[39m0\u001b[39m:\n\u001b[1;32m    310\u001b[0m     \u001b[39m# If we get here and p.returncode is still None, we must have\u001b[39;00m\n\u001b[1;32m    311\u001b[0m     \u001b[39m# killed it but not yet seen its return code. We don't wait for it,\u001b[39;00m\n\u001b[1;32m    312\u001b[0m     \u001b[39m# in case it's stuck in uninterruptible sleep. -9 = SIGKILL\u001b[39;00m\n\u001b[1;32m    313\u001b[0m     rc \u001b[39m=\u001b[39m p\u001b[39m.\u001b[39mreturncode \u001b[39mor\u001b[39;00m \u001b[39m-\u001b[39m\u001b[39m9\u001b[39m\n\u001b[0;32m--> 314\u001b[0m     \u001b[39mraise\u001b[39;00m CalledProcessError(rc, cell)\n",
      "\u001b[0;31mCalledProcessError\u001b[0m: Command 'b'sentinel apply -config=sentinel-mocks.hcl restrict-s3-buckets.sentinel\\n'' returned non-zero exit status 1."
     ]
    }
   ],
   "source": [
    "%%bash\n",
    "sentinel apply -config=sentinel-mocks.hcl restrict-s3-buckets.sentinel\n"
   ]
  }
 ],
 "metadata": {
  "kernelspec": {
   "display_name": "Python 3",
   "language": "python",
   "name": "python3"
  },
  "language_info": {
   "codemirror_mode": {
    "name": "ipython",
    "version": 3
   },
   "file_extension": ".py",
   "mimetype": "text/x-python",
   "name": "python",
   "nbconvert_exporter": "python",
   "pygments_lexer": "ipython3",
   "version": "3.9.6"
  },
  "orig_nbformat": 4
 },
 "nbformat": 4,
 "nbformat_minor": 2
}
